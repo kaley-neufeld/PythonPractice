{
 "cells": [
  {
   "cell_type": "code",
   "execution_count": 1,
   "id": "f86f088d-ade4-45fa-acc7-5d9889d8cd36",
   "metadata": {},
   "outputs": [],
   "source": [
    "import numpy as np"
   ]
  },
  {
   "cell_type": "code",
   "execution_count": 2,
   "id": "797b9816-7718-4aa7-a999-c64569d9c639",
   "metadata": {},
   "outputs": [],
   "source": [
    "goal = 12\n",
    "num_variables = 2\n",
    "other_sum = 6"
   ]
  },
  {
   "cell_type": "code",
   "execution_count": 15,
   "id": "cd703b29-8b3b-40f6-93ba-032d8b6b5906",
   "metadata": {},
   "outputs": [],
   "source": [
    "def ways_to_sum(goal, other_sum, num_variables):\n",
    "    \n",
    "    new_goal = goal - other_sum\n",
    "    min_num = 1\n",
    "    max_num = new_goal\n",
    "\n",
    "    lst = []\n",
    "    for i in range(1,num_variables+1):\n",
    "        \n",
    "        for j in range(min_num,max_num):\n",
    "            lst.append(j)\n",
    "\n",
    "        #if sum(lst) == new_goal:\n",
    "        print(lst)\n",
    "        lst = []\n",
    "\n",
    "        "
   ]
  },
  {
   "cell_type": "code",
   "execution_count": 16,
   "id": "c91ba689-cf5e-43ab-b8fa-eba4e9b3cfee",
   "metadata": {},
   "outputs": [
    {
     "name": "stdout",
     "output_type": "stream",
     "text": [
      "[1, 2, 3, 4, 5]\n",
      "[1, 2, 3, 4, 5]\n"
     ]
    }
   ],
   "source": [
    "ways_to_sum(goal,other_sum,num_variables)"
   ]
  },
  {
   "cell_type": "code",
   "execution_count": 57,
   "id": "e353f6b7-76a1-4a66-8ca9-a58e4c5a92a1",
   "metadata": {},
   "outputs": [],
   "source": [
    "def is_possible(goal, other_sum, num_variables):\n",
    "    print('goal: '+str(goal))\n",
    "    print('other: '+str(other_sum))\n",
    "    print('num_variables: '+str(num_variables))\n",
    "    new_goal = goal - other_sum\n",
    "    return (new_goal % num_variables == 0)"
   ]
  },
  {
   "cell_type": "code",
   "execution_count": 54,
   "id": "648c8ca1-30ec-470b-baf0-8a329ff243c9",
   "metadata": {},
   "outputs": [
    {
     "data": {
      "text/plain": [
       "True"
      ]
     },
     "execution_count": 54,
     "metadata": {},
     "output_type": "execute_result"
    }
   ],
   "source": [
    "is_possible(goal,other_sum,num_variables)"
   ]
  },
  {
   "cell_type": "code",
   "execution_count": 91,
   "id": "157c6127-1117-4185-be15-cd31d6db8d91",
   "metadata": {},
   "outputs": [],
   "source": [
    "def minSum(nums1, nums2):\n",
    "        \"\"\"\n",
    "        :type nums1: List[int]\n",
    "        :type nums2: List[int]\n",
    "        :rtype: int\n",
    "        \"\"\"\n",
    "\n",
    "        min_replacement_num = 1\n",
    "        max_replacement_num = 1000000\n",
    "\n",
    "        nums1_len = len(nums1)\n",
    "        nums2_len = len(nums2)\n",
    "\n",
    "        nums1_orig_sum = sum(nums1)\n",
    "        nums2_orig_sum = sum(nums2)\n",
    "\n",
    "        nums1_zeros = nums1_len - np.count_nonzero(nums1)\n",
    "        nums2_zeros = nums2_len - np.count_nonzero(nums2)\n",
    "\n",
    "        if nums1_zeros > nums2_zeros:\n",
    "            more_zeros = nums1\n",
    "        else:\n",
    "            more_zeros = nums2\n",
    "          \n",
    "        min_nums1_sum = nums1_orig_sum + min_replacement_num*nums1_zeros\n",
    "        max_nums1_sum = nums1_orig_sum + max_replacement_num*nums1_zeros\n",
    "\n",
    "        min_nums2_sum = nums2_orig_sum + min_replacement_num*nums2_zeros\n",
    "        max_nums2_sum = nums2_orig_sum + max_replacement_num*nums2_zeros\n",
    "\n",
    "        max_sum = min(max_nums1_sum,max_nums2_sum)\n",
    "    \n",
    "        # cases where there are no zeros to change\n",
    "        if (nums1_orig_sum != nums2_orig_sum) and (nums1_zeros == 0) and (nums2_zeros == 0):\n",
    "            return -1\n",
    "        elif (nums1_zeros == 0) and (min_nums2_sum > nums1_orig_sum):\n",
    "            return -1\n",
    "        elif (nums2_zeros == 0) and (min_nums1_sum > nums2_orig_sum):\n",
    "            return -1\n",
    "\n",
    "        goal = 0\n",
    "        while (goal < max_sum):\n",
    "            if min_nums1_sum > min_nums2_sum:\n",
    "                goal = min_nums1_sum\n",
    "                other = min_nums2_sum\n",
    "                num_variables = nums2_zeros\n",
    "            else:\n",
    "                goal = min_nums2_sum\n",
    "                other = min_nums1_sum\n",
    "                num_variables = nums1_zeros\n",
    "    \n",
    "            if is_possible(goal,other,num_variables):\n",
    "                return goal\n",
    "            else:\n",
    "                min_replacement_num += 1\n",
    "                if more_zeros == nums1:\n",
    "                    min_nums2_sum = nums2_orig_sum + min_replacement_num*nums2_zeros  # this will change all zeros if less zeros > 1\n",
    "                else:\n",
    "                    min_nums1_sum = nums1_orig_sum + min_replacement_num*nums1_zeros  # this will change all zeros if less zeros > 1\n",
    "                continue    \n",
    "\n",
    "        return -1   ### TODO keep iterating, until some end point?"
   ]
  },
  {
   "cell_type": "code",
   "execution_count": 92,
   "id": "49eb2e01-a7a2-4135-a6e4-4a86acd220ba",
   "metadata": {},
   "outputs": [],
   "source": [
    "lst1 = [0,1,2]\n",
    "lst2 = [5,0]"
   ]
  },
  {
   "cell_type": "code",
   "execution_count": 93,
   "id": "adaa76b8-e029-4ef7-bf60-df0742b0c4e7",
   "metadata": {},
   "outputs": [
    {
     "name": "stdout",
     "output_type": "stream",
     "text": [
      "goal: 6\n",
      "other: 4\n",
      "num_variables: 1\n"
     ]
    },
    {
     "data": {
      "text/plain": [
       "6"
      ]
     },
     "execution_count": 93,
     "metadata": {},
     "output_type": "execute_result"
    }
   ],
   "source": [
    "minSum(lst1,lst2)"
   ]
  },
  {
   "cell_type": "code",
   "execution_count": 94,
   "id": "dd997af5-c3fb-41ff-9486-c6fec3fb4af6",
   "metadata": {},
   "outputs": [],
   "source": [
    "lst3 = [0,0,1]"
   ]
  },
  {
   "cell_type": "code",
   "execution_count": 95,
   "id": "c40cba28-c637-4763-a8a7-6f1f28fff89c",
   "metadata": {},
   "outputs": [
    {
     "name": "stdout",
     "output_type": "stream",
     "text": [
      "goal: 4\n",
      "other: 3\n",
      "num_variables: 2\n",
      "goal: 5\n",
      "other: 3\n",
      "num_variables: 2\n"
     ]
    },
    {
     "data": {
      "text/plain": [
       "5"
      ]
     },
     "execution_count": 95,
     "metadata": {},
     "output_type": "execute_result"
    }
   ],
   "source": [
    "minSum(lst1,lst3)"
   ]
  },
  {
   "cell_type": "code",
   "execution_count": 96,
   "id": "d49e93e2-6128-448e-8706-95a200852a41",
   "metadata": {},
   "outputs": [],
   "source": [
    "nums1 = [2,0,2,0]\n",
    "nums2 = [1,4]"
   ]
  },
  {
   "cell_type": "code",
   "execution_count": 97,
   "id": "3060a0e0-e248-4730-883e-e93c477d3fb9",
   "metadata": {},
   "outputs": [
    {
     "data": {
      "text/plain": [
       "-1"
      ]
     },
     "execution_count": 97,
     "metadata": {},
     "output_type": "execute_result"
    }
   ],
   "source": [
    "minSum(nums1,nums2)"
   ]
  },
  {
   "cell_type": "code",
   "execution_count": 98,
   "id": "13cca526-4768-4ccd-9d55-daf6b6763ac2",
   "metadata": {},
   "outputs": [
    {
     "name": "stdout",
     "output_type": "stream",
     "text": [
      "goal: 6\n",
      "other: 4\n",
      "num_variables: 1\n"
     ]
    },
    {
     "data": {
      "text/plain": [
       "6"
      ]
     },
     "execution_count": 98,
     "metadata": {},
     "output_type": "execute_result"
    }
   ],
   "source": [
    "minSum(lst1,nums1)"
   ]
  },
  {
   "cell_type": "code",
   "execution_count": 99,
   "id": "23ac5bca-1847-4a85-85c0-ba465f405e41",
   "metadata": {},
   "outputs": [],
   "source": [
    "nums3 = [3,2,0,1,0]\n",
    "nums4 = [6,5,0]"
   ]
  },
  {
   "cell_type": "code",
   "execution_count": 100,
   "id": "a2315bf4-008b-42f6-a4e4-748109fb5b35",
   "metadata": {},
   "outputs": [
    {
     "name": "stdout",
     "output_type": "stream",
     "text": [
      "goal: 12\n",
      "other: 8\n",
      "num_variables: 2\n"
     ]
    },
    {
     "data": {
      "text/plain": [
       "12"
      ]
     },
     "execution_count": 100,
     "metadata": {},
     "output_type": "execute_result"
    }
   ],
   "source": [
    "minSum(nums3,nums4)"
   ]
  },
  {
   "cell_type": "code",
   "execution_count": 101,
   "id": "53231514-afa2-41c1-aa1e-237c9acbdd6b",
   "metadata": {},
   "outputs": [
    {
     "name": "stdout",
     "output_type": "stream",
     "text": [
      "goal: 8\n",
      "other: 6\n",
      "num_variables: 2\n"
     ]
    },
    {
     "data": {
      "text/plain": [
       "8"
      ]
     },
     "execution_count": 101,
     "metadata": {},
     "output_type": "execute_result"
    }
   ],
   "source": [
    "minSum(nums1,nums3)"
   ]
  },
  {
   "cell_type": "code",
   "execution_count": 102,
   "id": "7f7712b2-b3e6-4249-8cbd-921539187a37",
   "metadata": {},
   "outputs": [
    {
     "data": {
      "text/plain": [
       "-1"
      ]
     },
     "execution_count": 102,
     "metadata": {},
     "output_type": "execute_result"
    }
   ],
   "source": [
    "minSum(nums2,nums4)"
   ]
  },
  {
   "cell_type": "code",
   "execution_count": null,
   "id": "00ee4b6d-d228-4142-8432-de5847655aa7",
   "metadata": {},
   "outputs": [],
   "source": []
  }
 ],
 "metadata": {
  "kernelspec": {
   "display_name": "Python 3 (ipykernel)",
   "language": "python",
   "name": "python3"
  },
  "language_info": {
   "codemirror_mode": {
    "name": "ipython",
    "version": 3
   },
   "file_extension": ".py",
   "mimetype": "text/x-python",
   "name": "python",
   "nbconvert_exporter": "python",
   "pygments_lexer": "ipython3",
   "version": "3.12.7"
  }
 },
 "nbformat": 4,
 "nbformat_minor": 5
}
