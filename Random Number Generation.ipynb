{
 "cells": [
  {
   "cell_type": "code",
   "execution_count": 1,
   "id": "10a71069",
   "metadata": {},
   "outputs": [],
   "source": [
    "import random"
   ]
  },
  {
   "cell_type": "markdown",
   "id": "b258b222",
   "metadata": {},
   "source": [
    "### 1. Generate 3 random integers between 100 and 999 which is divisible by 5"
   ]
  },
  {
   "cell_type": "code",
   "execution_count": 2,
   "id": "91decfb1",
   "metadata": {},
   "outputs": [
    {
     "name": "stdout",
     "output_type": "stream",
     "text": [
      "945\n",
      "235\n",
      "540\n"
     ]
    }
   ],
   "source": [
    "for num in range(3):\n",
    "    print(random.randrange(100,999,5))"
   ]
  },
  {
   "cell_type": "code",
   "execution_count": null,
   "id": "bfbce0c1",
   "metadata": {},
   "outputs": [],
   "source": []
  }
 ],
 "metadata": {
  "kernelspec": {
   "display_name": "Python 3 (ipykernel)",
   "language": "python",
   "name": "python3"
  },
  "language_info": {
   "codemirror_mode": {
    "name": "ipython",
    "version": 3
   },
   "file_extension": ".py",
   "mimetype": "text/x-python",
   "name": "python",
   "nbconvert_exporter": "python",
   "pygments_lexer": "ipython3",
   "version": "3.9.13"
  }
 },
 "nbformat": 4,
 "nbformat_minor": 5
}
