{
 "cells": [
  {
   "cell_type": "code",
   "execution_count": 1,
   "id": "136bf57f-0e11-49e3-add3-c199b44b6327",
   "metadata": {},
   "outputs": [],
   "source": [
    "# Given a list of words (strings) return the word that appears most frequently\n",
    "#    If there's a tie, return any of the most frequent words\n",
    "#    Bonus: make the function case-insensitive (so 'yoga' and 'Yoga' are the same word)\n",
    "def most_freq_word(word_list):\n",
    "    counts = {}\n",
    "    for word in word_list:\n",
    "        word = word.lower()\n",
    "        counts[word] = counts.get(word, 0) + 1\n",
    "            \n",
    "    highest_freq = max(counts.values())\n",
    "    \n",
    "    for word in counts:\n",
    "        if counts[word] == highest_freq:\n",
    "            return word"
   ]
  },
  {
   "cell_type": "code",
   "execution_count": 2,
   "id": "66d2186e-ca99-48f5-abcc-96d0d98ace9a",
   "metadata": {},
   "outputs": [],
   "source": [
    "words = [\"yoga\", \"walk\", \"meditate\", \"walk\", \"read\", \"Walk\", \"meditate\", \"yoga\"]\n"
   ]
  },
  {
   "cell_type": "code",
   "execution_count": 3,
   "id": "a68a8cbb-ecd7-403f-a983-043a5ce4dae2",
   "metadata": {},
   "outputs": [
    {
     "data": {
      "text/plain": [
       "'walk'"
      ]
     },
     "execution_count": 3,
     "metadata": {},
     "output_type": "execute_result"
    }
   ],
   "source": [
    "most_freq_word(words)"
   ]
  },
  {
   "cell_type": "code",
   "execution_count": null,
   "id": "5d05b887-6c54-4335-98f7-b346c0c89568",
   "metadata": {},
   "outputs": [],
   "source": []
  },
  {
   "cell_type": "markdown",
   "id": "4b991df0-9d5d-4943-908e-b572f6659f68",
   "metadata": {},
   "source": [
    "#### Challenge: Recursive Sum of Digits"
   ]
  },
  {
   "cell_type": "code",
   "execution_count": 4,
   "id": "12f21c34-9271-47b3-9e7a-e94596e8fd98",
   "metadata": {},
   "outputs": [],
   "source": [
    "def sum_digits(n):\n",
    "\n",
    "    str_n = str(n)\n",
    "    \n",
    "    if len(str_n) == 1:\n",
    "        return int(str_n)\n",
    "    else:\n",
    "        return int(str_n[0]) + sum_digits(int(str_n[1:]))\n",
    "        "
   ]
  },
  {
   "cell_type": "code",
   "execution_count": 5,
   "id": "c99b674e-b3b2-4a73-ba99-7d3c5fcc15ba",
   "metadata": {},
   "outputs": [
    {
     "name": "stdout",
     "output_type": "stream",
     "text": [
      "6\n",
      "1\n",
      "14\n"
     ]
    }
   ],
   "source": [
    "print(sum_digits(123))\n",
    "print(sum_digits(1))\n",
    "print(sum_digits(59))"
   ]
  },
  {
   "cell_type": "markdown",
   "id": "b7454b9c-b259-4360-856a-9b2bebaf4836",
   "metadata": {},
   "source": [
    "#### Challenge: Recursive Path Counting\n",
    "You are at the top-left corner of a grid with m rows and n columns. You can only move right or down one step at a time. Write a recursive function to count how many unique paths exist to get to the bottom-right corner.\n",
    "\n",
    "Define the recursive function count_paths(m, n) that returns the number of unique paths in an m x n grid"
   ]
  },
  {
   "cell_type": "code",
   "execution_count": 6,
   "id": "b0495699-bed4-430d-926c-0d9eec3282af",
   "metadata": {},
   "outputs": [],
   "source": [
    "def count_paths(m, n):\n",
    "\n",
    "    if (m == 1) or (n == 1):\n",
    "        return 1\n",
    "    else:\n",
    "        return count_paths(m, n - 1) + count_paths(m - 1, n)"
   ]
  },
  {
   "cell_type": "code",
   "execution_count": 7,
   "id": "f8eac062-688e-4cf5-95d4-88ef62ee8f53",
   "metadata": {},
   "outputs": [
    {
     "name": "stdout",
     "output_type": "stream",
     "text": [
      "2\n",
      "3\n",
      "1\n",
      "1\n",
      "6\n"
     ]
    }
   ],
   "source": [
    "print(count_paths(2,2))\n",
    "print(count_paths(3,2))\n",
    "print(count_paths(1,1))\n",
    "print(count_paths(1,5))\n",
    "print(count_paths(3,3))\n"
   ]
  },
  {
   "cell_type": "code",
   "execution_count": null,
   "id": "edd93fc6-e127-46ae-8e51-ea01e39ec9de",
   "metadata": {},
   "outputs": [],
   "source": []
  },
  {
   "cell_type": "code",
   "execution_count": null,
   "id": "449d3d22-015e-45bd-bf11-b2897211af59",
   "metadata": {},
   "outputs": [],
   "source": []
  }
 ],
 "metadata": {
  "kernelspec": {
   "display_name": "Python 3 (ipykernel)",
   "language": "python",
   "name": "python3"
  },
  "language_info": {
   "codemirror_mode": {
    "name": "ipython",
    "version": 3
   },
   "file_extension": ".py",
   "mimetype": "text/x-python",
   "name": "python",
   "nbconvert_exporter": "python",
   "pygments_lexer": "ipython3",
   "version": "3.12.7"
  }
 },
 "nbformat": 4,
 "nbformat_minor": 5
}
