{
 "cells": [
  {
   "cell_type": "code",
   "execution_count": 1,
   "id": "136bf57f-0e11-49e3-add3-c199b44b6327",
   "metadata": {},
   "outputs": [],
   "source": [
    "# Given a list of words (strings) return the word that appears most frequently\n",
    "#    If there's a tie, return any of the most frequent words\n",
    "#    Bonus: make the function case-insensitive (so 'yoga' and 'Yoga' are the same word)\n",
    "def most_freq_word(word_list):\n",
    "    counts = {}\n",
    "    for word in word_list:\n",
    "        word = word.lower()\n",
    "        counts[word] = counts.get(word, 0) + 1\n",
    "            \n",
    "    highest_freq = max(counts.values())\n",
    "    \n",
    "    for word in counts:\n",
    "        if counts[word] == highest_freq:\n",
    "            return word"
   ]
  },
  {
   "cell_type": "code",
   "execution_count": 2,
   "id": "66d2186e-ca99-48f5-abcc-96d0d98ace9a",
   "metadata": {},
   "outputs": [],
   "source": [
    "words = [\"yoga\", \"walk\", \"meditate\", \"walk\", \"read\", \"Walk\", \"meditate\", \"yoga\"]\n"
   ]
  },
  {
   "cell_type": "code",
   "execution_count": 3,
   "id": "a68a8cbb-ecd7-403f-a983-043a5ce4dae2",
   "metadata": {},
   "outputs": [
    {
     "data": {
      "text/plain": [
       "'walk'"
      ]
     },
     "execution_count": 3,
     "metadata": {},
     "output_type": "execute_result"
    }
   ],
   "source": [
    "most_freq_word(words)"
   ]
  },
  {
   "cell_type": "code",
   "execution_count": null,
   "id": "5d05b887-6c54-4335-98f7-b346c0c89568",
   "metadata": {},
   "outputs": [],
   "source": []
  },
  {
   "cell_type": "markdown",
   "id": "4b991df0-9d5d-4943-908e-b572f6659f68",
   "metadata": {},
   "source": [
    "#### Challenge: Recursive Sum of Digits"
   ]
  },
  {
   "cell_type": "code",
   "execution_count": 4,
   "id": "12f21c34-9271-47b3-9e7a-e94596e8fd98",
   "metadata": {},
   "outputs": [],
   "source": [
    "def sum_digits(n):\n",
    "\n",
    "    str_n = str(n)\n",
    "    \n",
    "    if len(str_n) == 1:\n",
    "        return int(str_n)\n",
    "    else:\n",
    "        return int(str_n[0]) + sum_digits(int(str_n[1:]))\n",
    "        "
   ]
  },
  {
   "cell_type": "code",
   "execution_count": 5,
   "id": "c99b674e-b3b2-4a73-ba99-7d3c5fcc15ba",
   "metadata": {},
   "outputs": [
    {
     "name": "stdout",
     "output_type": "stream",
     "text": [
      "6\n",
      "1\n",
      "14\n"
     ]
    }
   ],
   "source": [
    "print(sum_digits(123))\n",
    "print(sum_digits(1))\n",
    "print(sum_digits(59))"
   ]
  },
  {
   "cell_type": "markdown",
   "id": "b7454b9c-b259-4360-856a-9b2bebaf4836",
   "metadata": {},
   "source": [
    "#### Challenge: Recursive Path Counting\n",
    "You are at the top-left corner of a grid with m rows and n columns. You can only move right or down one step at a time. Write a recursive function to count how many unique paths exist to get to the bottom-right corner.\n",
    "\n",
    "Define the recursive function count_paths(m, n) that returns the number of unique paths in an m x n grid"
   ]
  },
  {
   "cell_type": "code",
   "execution_count": 6,
   "id": "b0495699-bed4-430d-926c-0d9eec3282af",
   "metadata": {},
   "outputs": [],
   "source": [
    "def count_paths(m, n):\n",
    "\n",
    "    if (m == 1) or (n == 1):\n",
    "        return 1\n",
    "    else:\n",
    "        return count_paths(m, n - 1) + count_paths(m - 1, n)"
   ]
  },
  {
   "cell_type": "code",
   "execution_count": 7,
   "id": "f8eac062-688e-4cf5-95d4-88ef62ee8f53",
   "metadata": {},
   "outputs": [
    {
     "name": "stdout",
     "output_type": "stream",
     "text": [
      "2\n",
      "3\n",
      "1\n",
      "1\n",
      "6\n"
     ]
    }
   ],
   "source": [
    "print(count_paths(2,2))\n",
    "print(count_paths(3,2))\n",
    "print(count_paths(1,1))\n",
    "print(count_paths(1,5))\n",
    "print(count_paths(3,3))\n"
   ]
  },
  {
   "cell_type": "markdown",
   "id": "e91f6f56-0d69-45a9-89bb-211c6607ad50",
   "metadata": {},
   "source": [
    "#### Challenge : First Unique Character\n",
    "Given a string s, find the index of the first non-repeating character. If no such character exists, return -1."
   ]
  },
  {
   "cell_type": "code",
   "execution_count": 8,
   "id": "449d3d22-015e-45bd-bf11-b2897211af59",
   "metadata": {},
   "outputs": [],
   "source": [
    "ex1 = \"leetcode\"\n",
    "ex2 = \"loveleetcode\"\n",
    "ex3 = \"aabb\""
   ]
  },
  {
   "cell_type": "code",
   "execution_count": 10,
   "id": "6f261208-a96f-409a-8ee6-81dffa610c32",
   "metadata": {},
   "outputs": [],
   "source": [
    "def get_first_nonrepeat(s):\n",
    "    \n",
    "    def get_count(x):\n",
    "        count = 0\n",
    "        for char in s:\n",
    "            if x == char:\n",
    "                count+=1\n",
    "        return count\n",
    "\n",
    "    for i in range(len(s)):\n",
    "        char = s[i]\n",
    "        if get_count(char) == 1:\n",
    "            return i\n",
    "    return -1"
   ]
  },
  {
   "cell_type": "code",
   "execution_count": 11,
   "id": "2d5b8ad3-b7db-43ec-9f0b-9fc263378f0e",
   "metadata": {},
   "outputs": [
    {
     "name": "stdout",
     "output_type": "stream",
     "text": [
      "0\n",
      "2\n",
      "-1\n"
     ]
    }
   ],
   "source": [
    "print(get_first_nonrepeat(ex1))\n",
    "print(get_first_nonrepeat(ex2))\n",
    "print(get_first_nonrepeat(ex3))"
   ]
  },
  {
   "cell_type": "code",
   "execution_count": 13,
   "id": "7be9b359-518b-40f2-8104-bae83b90da4c",
   "metadata": {},
   "outputs": [],
   "source": [
    "# more efficient version: O(n) runtime\n",
    "def get_first_nonrepeat2(s):\n",
    "    counts = {}\n",
    "    for char in s:\n",
    "        if char in counts:\n",
    "            counts[char] += 1\n",
    "        else:\n",
    "            counts[char] = 1\n",
    "\n",
    "    for i, char in enumerate(s):\n",
    "        if counts[char] == 1:\n",
    "            return i\n",
    "    return -1\n"
   ]
  },
  {
   "cell_type": "code",
   "execution_count": 14,
   "id": "61b4019b-2212-4c63-ab40-f9f07b82de23",
   "metadata": {},
   "outputs": [
    {
     "name": "stdout",
     "output_type": "stream",
     "text": [
      "0\n",
      "2\n",
      "-1\n"
     ]
    }
   ],
   "source": [
    "print(get_first_nonrepeat2(ex1))\n",
    "print(get_first_nonrepeat2(ex2))\n",
    "print(get_first_nonrepeat2(ex3))"
   ]
  },
  {
   "cell_type": "code",
   "execution_count": null,
   "id": "92dab7f9-1f2a-4ab4-9386-24cda80c4007",
   "metadata": {},
   "outputs": [],
   "source": []
  }
 ],
 "metadata": {
  "kernelspec": {
   "display_name": "Python 3 (ipykernel)",
   "language": "python",
   "name": "python3"
  },
  "language_info": {
   "codemirror_mode": {
    "name": "ipython",
    "version": 3
   },
   "file_extension": ".py",
   "mimetype": "text/x-python",
   "name": "python",
   "nbconvert_exporter": "python",
   "pygments_lexer": "ipython3",
   "version": "3.12.7"
  }
 },
 "nbformat": 4,
 "nbformat_minor": 5
}
