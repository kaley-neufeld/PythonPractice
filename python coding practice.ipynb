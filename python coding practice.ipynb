{
 "cells": [
  {
   "cell_type": "code",
   "execution_count": 1,
   "id": "eb47d31d-0544-4772-b343-4374e48ae916",
   "metadata": {},
   "outputs": [],
   "source": [
    "import pandas as pd"
   ]
  },
  {
   "cell_type": "code",
   "execution_count": 5,
   "id": "136bf57f-0e11-49e3-add3-c199b44b6327",
   "metadata": {},
   "outputs": [],
   "source": [
    "# Given a list of words (strings) return the word that appears most frequently\n",
    "#    If there's a tie, return any of the most frequent words\n",
    "#    Bonus: make the function case-insensitive (so 'yoga' and 'Yoga' are the same word)\n",
    "def most_freq_word(word_list):\n",
    "    counts = {}\n",
    "    for word in word_list:\n",
    "        word = word.lower()\n",
    "        counts[word] = counts.get(word, 0) + 1\n",
    "            \n",
    "    highest_freq = max(counts.values())\n",
    "    \n",
    "    for word in counts:\n",
    "        if counts[word] == highest_freq:\n",
    "            return word"
   ]
  },
  {
   "cell_type": "code",
   "execution_count": 6,
   "id": "66d2186e-ca99-48f5-abcc-96d0d98ace9a",
   "metadata": {},
   "outputs": [],
   "source": [
    "words = [\"yoga\", \"walk\", \"meditate\", \"walk\", \"read\", \"Walk\", \"meditate\", \"yoga\"]\n"
   ]
  },
  {
   "cell_type": "code",
   "execution_count": 7,
   "id": "a68a8cbb-ecd7-403f-a983-043a5ce4dae2",
   "metadata": {},
   "outputs": [
    {
     "data": {
      "text/plain": [
       "'walk'"
      ]
     },
     "execution_count": 7,
     "metadata": {},
     "output_type": "execute_result"
    }
   ],
   "source": [
    "most_freq_word(words)"
   ]
  },
  {
   "cell_type": "code",
   "execution_count": null,
   "id": "5d05b887-6c54-4335-98f7-b346c0c89568",
   "metadata": {},
   "outputs": [],
   "source": []
  },
  {
   "cell_type": "code",
   "execution_count": null,
   "id": "3afb53dc-ea72-442a-8fd9-af332dea50e7",
   "metadata": {},
   "outputs": [],
   "source": []
  }
 ],
 "metadata": {
  "kernelspec": {
   "display_name": "Python 3 (ipykernel)",
   "language": "python",
   "name": "python3"
  },
  "language_info": {
   "codemirror_mode": {
    "name": "ipython",
    "version": 3
   },
   "file_extension": ".py",
   "mimetype": "text/x-python",
   "name": "python",
   "nbconvert_exporter": "python",
   "pygments_lexer": "ipython3",
   "version": "3.12.7"
  }
 },
 "nbformat": 4,
 "nbformat_minor": 5
}
