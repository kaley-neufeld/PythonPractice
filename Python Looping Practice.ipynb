{
 "cells": [
  {
   "cell_type": "markdown",
   "id": "333bf7de",
   "metadata": {},
   "source": [
    "#### 1. Print first 10 natural numbers using while loop"
   ]
  },
  {
   "cell_type": "code",
   "execution_count": 5,
   "id": "25978bd0",
   "metadata": {},
   "outputs": [
    {
     "name": "stdout",
     "output_type": "stream",
     "text": [
      "1\n",
      "2\n",
      "3\n",
      "4\n",
      "5\n",
      "6\n",
      "7\n",
      "8\n",
      "9\n",
      "10\n"
     ]
    }
   ],
   "source": [
    "num = 10\n",
    "for i in range(1,num+1):\n",
    "    print(i)"
   ]
  },
  {
   "cell_type": "markdown",
   "id": "e0ac424e",
   "metadata": {},
   "source": [
    "#### 2. Print the  following pattern:\n",
    "#### 1 \n",
    "#### 1 2 \n",
    "#### 1 2 3 \n",
    "#### 1 2 3 4 \n",
    "#### 1 2 3 4 5"
   ]
  },
  {
   "cell_type": "code",
   "execution_count": 23,
   "id": "462631f5",
   "metadata": {},
   "outputs": [
    {
     "name": "stdout",
     "output_type": "stream",
     "text": [
      "1 \n",
      "1 2 \n",
      "1 2 3 \n",
      "1 2 3 4 \n",
      "1 2 3 4 5 \n"
     ]
    }
   ],
   "source": [
    "num = 5\n",
    "\n",
    "for i in range(1,num+1):\n",
    "    line = \"\"\n",
    "    for j in range(1, i+1):\n",
    "        line += str(j)+\" \"\n",
    "    print(line)"
   ]
  },
  {
   "cell_type": "markdown",
   "id": "b8753b14",
   "metadata": {},
   "source": [
    "####  3. Calculate sum of all numbers from 1 to a given number\n",
    "#### eg. if the user entered 10, the output should be 55"
   ]
  },
  {
   "cell_type": "code",
   "execution_count": 26,
   "id": "9488f882",
   "metadata": {},
   "outputs": [],
   "source": [
    "def sum_up_to(num):\n",
    "    return (1 + num)*num//2"
   ]
  },
  {
   "cell_type": "code",
   "execution_count": 27,
   "id": "ea5d773a",
   "metadata": {},
   "outputs": [
    {
     "data": {
      "text/plain": [
       "55"
      ]
     },
     "execution_count": 27,
     "metadata": {},
     "output_type": "execute_result"
    }
   ],
   "source": [
    "sum_up_to(10)"
   ]
  },
  {
   "cell_type": "markdown",
   "id": "27cf9f07",
   "metadata": {},
   "source": [
    "####  4. Print multiplication table of a given number (up to multiplication of 10)"
   ]
  },
  {
   "cell_type": "code",
   "execution_count": 32,
   "id": "536688db",
   "metadata": {},
   "outputs": [],
   "source": [
    "def multiplication_table(num):\n",
    "    for i in range(1,11):\n",
    "        print(num*i)"
   ]
  },
  {
   "cell_type": "code",
   "execution_count": 33,
   "id": "6a15a3e6",
   "metadata": {},
   "outputs": [
    {
     "name": "stdout",
     "output_type": "stream",
     "text": [
      "2\n",
      "4\n",
      "6\n",
      "8\n",
      "10\n",
      "12\n",
      "14\n",
      "16\n",
      "18\n",
      "20\n"
     ]
    }
   ],
   "source": [
    "multiplication_table(2)"
   ]
  },
  {
   "cell_type": "code",
   "execution_count": null,
   "id": "c4ba7b4e",
   "metadata": {},
   "outputs": [],
   "source": []
  }
 ],
 "metadata": {
  "kernelspec": {
   "display_name": "Python 3 (ipykernel)",
   "language": "python",
   "name": "python3"
  },
  "language_info": {
   "codemirror_mode": {
    "name": "ipython",
    "version": 3
   },
   "file_extension": ".py",
   "mimetype": "text/x-python",
   "name": "python",
   "nbconvert_exporter": "python",
   "pygments_lexer": "ipython3",
   "version": "3.9.13"
  }
 },
 "nbformat": 4,
 "nbformat_minor": 5
}
