{
 "cells": [
  {
   "cell_type": "code",
   "execution_count": 1,
   "id": "f2a0e7a0-545c-4be7-b082-5e7f06e10de3",
   "metadata": {},
   "outputs": [],
   "source": [
    "import pandas as pd"
   ]
  },
  {
   "cell_type": "code",
   "execution_count": 2,
   "id": "673185c7-a1eb-4de5-a50d-194b9fd533f3",
   "metadata": {},
   "outputs": [],
   "source": [
    "movies_df = pd.read_csv('movies.csv')\n",
    "ratings_df = pd.read_csv('ratings.csv')"
   ]
  },
  {
   "cell_type": "code",
   "execution_count": 3,
   "id": "72e84a05-0436-4bb6-b6bf-6b2aac1a2e4d",
   "metadata": {},
   "outputs": [],
   "source": [
    "movie_ratings_df = pd.merge(movies_df, ratings_df, on='movie_id')"
   ]
  },
  {
   "cell_type": "code",
   "execution_count": 4,
   "id": "83074f0a-1b82-4d40-a494-b4b53768e48a",
   "metadata": {},
   "outputs": [],
   "source": [
    "movie_ratings_df['timestamp'] = pd.to_datetime(movie_ratings_df['timestamp'])\n",
    "movie_ratings_df['release_year'] = pd.to_numeric(movie_ratings_df['release_year'], errors='coerce')"
   ]
  },
  {
   "cell_type": "code",
   "execution_count": 5,
   "id": "aa60f3ae-8af6-454c-b783-c063df59aaf7",
   "metadata": {},
   "outputs": [],
   "source": [
    "movie_ratings_df = movie_ratings_df.dropna(subset=['rating'])"
   ]
  },
  {
   "cell_type": "code",
   "execution_count": 6,
   "id": "8074fe0d-b6c9-4f7e-aed5-a80354b765c7",
   "metadata": {},
   "outputs": [],
   "source": [
    "genre_ratings = movie_ratings_df.groupby('genre')['rating'].mean().reset_index()\n",
    "genre_ratings = genre_ratings.rename(columns={'rating':'average_rating'})"
   ]
  },
  {
   "cell_type": "code",
   "execution_count": 7,
   "id": "12d04955-12c6-48af-aba6-332a765f109b",
   "metadata": {},
   "outputs": [],
   "source": [
    "top_3_genres = genre_ratings.sort_values('average_rating',ascending=False).head(3)"
   ]
  },
  {
   "cell_type": "code",
   "execution_count": 8,
   "id": "a4a9d583-7d97-43e0-a499-039738713c96",
   "metadata": {},
   "outputs": [],
   "source": [
    "movie_ratings_df['rating_year'] = movie_ratings_df['timestamp'].dt.year"
   ]
  },
  {
   "cell_type": "code",
   "execution_count": 9,
   "id": "0ef23a03-b5b1-4344-9ae0-2ee444b0b6b3",
   "metadata": {},
   "outputs": [],
   "source": [
    "median_release_year = movie_ratings_df['release_year'].median()\n",
    "movie_ratings_df['release_year'] = movie_ratings_df['release_year'].fillna(median_release_year)"
   ]
  },
  {
   "cell_type": "code",
   "execution_count": null,
   "id": "7335e985-d7fd-4677-bb20-14c1b5cad390",
   "metadata": {},
   "outputs": [],
   "source": []
  }
 ],
 "metadata": {
  "kernelspec": {
   "display_name": "Python 3 (ipykernel)",
   "language": "python",
   "name": "python3"
  },
  "language_info": {
   "codemirror_mode": {
    "name": "ipython",
    "version": 3
   },
   "file_extension": ".py",
   "mimetype": "text/x-python",
   "name": "python",
   "nbconvert_exporter": "python",
   "pygments_lexer": "ipython3",
   "version": "3.12.7"
  }
 },
 "nbformat": 4,
 "nbformat_minor": 5
}
