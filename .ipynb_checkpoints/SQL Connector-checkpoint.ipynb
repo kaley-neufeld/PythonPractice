{
 "cells": [
  {
   "cell_type": "code",
   "execution_count": null,
   "id": "381e456c",
   "metadata": {},
   "outputs": [],
   "source": [
    "import mysql\n",
    "from mysql.connector import Error"
   ]
  },
  {
   "cell_type": "code",
   "execution_count": null,
   "id": "0f1066a2",
   "metadata": {},
   "outputs": [],
   "source": [
    "def connect(host, db, user):\n",
    "    \n",
    "    pw = input(\"enter your password: \")\n",
    "    \n",
    "    try:\n",
    "        connection = mysql.connector.connect(host=host,\n",
    "                                             database=db,\n",
    "                                             user=user,\n",
    "                                             password=pw)\n",
    "        if connection.is_connected():\n",
    "            db_Info = connection.get_server_info()\n",
    "            print(\"Connected to MySQL Server version \", db_Info)\n",
    "            cursor = connection.cursor()\n",
    "            cursor.execute(\"select database();\")\n",
    "            record = cursor.fetchone()\n",
    "            print(\"You're connected to database: \", record)\n",
    "\n",
    "    except Error as e:\n",
    "        print(\"Error while connecting to MySQL\", e)\n",
    "    finally:\n",
    "        if connection.is_connected():\n",
    "            cursor.close()\n",
    "            connection.close()\n",
    "            print(\"MySQL connection is closed\")"
   ]
  },
  {
   "cell_type": "code",
   "execution_count": null,
   "id": "f679cf48",
   "metadata": {},
   "outputs": [],
   "source": [
    "connect('host','menagerie','kaley@localhost')"
   ]
  },
  {
   "cell_type": "code",
   "execution_count": null,
   "id": "cf6506e9",
   "metadata": {},
   "outputs": [],
   "source": []
  }
 ],
 "metadata": {
  "kernelspec": {
   "display_name": "Python 3 (ipykernel)",
   "language": "python",
   "name": "python3"
  },
  "language_info": {
   "codemirror_mode": {
    "name": "ipython",
    "version": 3
   },
   "file_extension": ".py",
   "mimetype": "text/x-python",
   "name": "python",
   "nbconvert_exporter": "python",
   "pygments_lexer": "ipython3",
   "version": "3.9.13"
  }
 },
 "nbformat": 4,
 "nbformat_minor": 5
}
