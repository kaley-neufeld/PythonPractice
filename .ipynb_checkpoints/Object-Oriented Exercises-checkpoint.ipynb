{
 "cells": [
  {
   "cell_type": "markdown",
   "id": "3f1469b9",
   "metadata": {},
   "source": [
    "#### https://pynative.com for exercises"
   ]
  },
  {
   "cell_type": "markdown",
   "id": "f7e48d89",
   "metadata": {},
   "source": [
    "### Exercise 1: Create a Class with instance attributes\n",
    "#### Write a Python program to create a Vehicle class with  name, max_speed, and mileage instance attributes."
   ]
  },
  {
   "cell_type": "code",
   "execution_count": 1,
   "id": "5514f63c",
   "metadata": {},
   "outputs": [],
   "source": [
    "class Vehicle:\n",
    "    def __init__(self, name, max_speed, mileage):\n",
    "        self.name = name\n",
    "        self.max_speed = max_speed\n",
    "        self.mileage = mileage"
   ]
  },
  {
   "cell_type": "markdown",
   "id": "03af731d",
   "metadata": {},
   "source": [
    "### Exercise 2: Create a Bus object that will inherit all of the variables and methods of the parent Vehicle class"
   ]
  },
  {
   "cell_type": "code",
   "execution_count": 3,
   "id": "20f3cb20",
   "metadata": {},
   "outputs": [],
   "source": [
    "class Bus(Vehicle):\n",
    "    pass"
   ]
  },
  {
   "cell_type": "code",
   "execution_count": 7,
   "id": "3638db7b",
   "metadata": {},
   "outputs": [
    {
     "name": "stdout",
     "output_type": "stream",
     "text": [
      "Vehicle Name: School Volvo Speed: 180 Mileage: 12\n"
     ]
    }
   ],
   "source": [
    "School_Bus = Bus(\"School Volvo\", 180, 12)\n",
    "print(\"Vehicle Name:\", School_Bus.name, \"Speed:\", School_Bus.max_speed, \"Mileage:\", School_Bus.mileage)"
   ]
  },
  {
   "cell_type": "code",
   "execution_count": null,
   "id": "f4b9d25c",
   "metadata": {},
   "outputs": [],
   "source": []
  }
 ],
 "metadata": {
  "kernelspec": {
   "display_name": "Python 3 (ipykernel)",
   "language": "python",
   "name": "python3"
  },
  "language_info": {
   "codemirror_mode": {
    "name": "ipython",
    "version": 3
   },
   "file_extension": ".py",
   "mimetype": "text/x-python",
   "name": "python",
   "nbconvert_exporter": "python",
   "pygments_lexer": "ipython3",
   "version": "3.9.13"
  }
 },
 "nbformat": 4,
 "nbformat_minor": 5
}
