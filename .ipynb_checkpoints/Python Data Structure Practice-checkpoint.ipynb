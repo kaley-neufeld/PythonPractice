{
 "cells": [
  {
   "cell_type": "markdown",
   "id": "151d7200",
   "metadata": {},
   "source": [
    "### 1: Create a list by picking an odd-index items from the first list and even index items from the second\n",
    "#### assuming we start at index 0 as Python lists do :)"
   ]
  },
  {
   "cell_type": "code",
   "execution_count": 1,
   "id": "1f9e3a2d",
   "metadata": {},
   "outputs": [],
   "source": [
    "def even_odd_index_list(list1, list2):\n",
    "    output = []\n",
    "    \n",
    "    def is_even(num):\n",
    "        if num % 2 == 0:\n",
    "            return True\n",
    "        return False\n",
    "    \n",
    "    for i in range(len(list1)):\n",
    "        if not is_even(i):\n",
    "            output.append(list1[i])\n",
    "            \n",
    "    for i in range(len(list2)):\n",
    "        if is_even(i):\n",
    "            output.append(list2[i])      \n",
    "            \n",
    "    return output"
   ]
  },
  {
   "cell_type": "code",
   "execution_count": 2,
   "id": "12590982",
   "metadata": {},
   "outputs": [
    {
     "data": {
      "text/plain": [
       "[6, 12, 18, 4, 12, 20, 28]"
      ]
     },
     "execution_count": 2,
     "metadata": {},
     "output_type": "execute_result"
    }
   ],
   "source": [
    "l1 = [3, 6, 9, 12, 15, 18, 21]\n",
    "l2 = [4, 8, 12, 16, 20, 24, 28]\n",
    "\n",
    "even_odd_index_list(l1,l2)"
   ]
  },
  {
   "cell_type": "markdown",
   "id": "4e69dd03",
   "metadata": {},
   "source": [
    "### 2: Remove and add item in a list\n",
    "#### Write a program to remove the item present at index 4 and add it to the 2nd position and at the end of the list."
   ]
  },
  {
   "cell_type": "code",
   "execution_count": 3,
   "id": "13caeef2",
   "metadata": {},
   "outputs": [],
   "source": [
    "def item_mover(lst):\n",
    "    fourth = lst.pop(4)\n",
    "    lst.insert(2, fourth)\n",
    "    lst.append(fourth)"
   ]
  },
  {
   "cell_type": "code",
   "execution_count": 4,
   "id": "d2c8fbbc",
   "metadata": {},
   "outputs": [
    {
     "data": {
      "text/plain": [
       "[34, 54, 11, 67, 89, 43, 94, 11]"
      ]
     },
     "execution_count": 4,
     "metadata": {},
     "output_type": "execute_result"
    }
   ],
   "source": [
    "list1 = [34, 54, 67, 89, 11, 43, 94]\n",
    "\n",
    "item_mover(list1)\n",
    "\n",
    "list1"
   ]
  },
  {
   "cell_type": "markdown",
   "id": "52d148cb",
   "metadata": {},
   "source": [
    "### 4: Count the occurrence of each element from a list\n",
    "#### return in a dictionary"
   ]
  },
  {
   "cell_type": "code",
   "execution_count": 5,
   "id": "632cd8ee",
   "metadata": {},
   "outputs": [],
   "source": [
    "def count_list_elements(lst):\n",
    "    out_dict = {}\n",
    "    \n",
    "    for i in lst:\n",
    "        if i not in out_dict:\n",
    "            out_dict[i] = 1\n",
    "        else:\n",
    "            out_dict[i] += 1\n",
    "            \n",
    "    return out_dict"
   ]
  },
  {
   "cell_type": "code",
   "execution_count": 6,
   "id": "9ef20d28",
   "metadata": {},
   "outputs": [
    {
     "data": {
      "text/plain": [
       "{11: 2, 45: 3, 8: 1, 23: 2, 89: 1}"
      ]
     },
     "execution_count": 6,
     "metadata": {},
     "output_type": "execute_result"
    }
   ],
   "source": [
    "sample_list = [11, 45, 8, 11, 23, 45, 23, 45, 89]\n",
    "count_list_elements(sample_list)"
   ]
  },
  {
   "cell_type": "markdown",
   "id": "518b5443",
   "metadata": {},
   "source": [
    "###  9: Get all values from the dictionary and add them to a list but don’t add duplicates"
   ]
  },
  {
   "cell_type": "code",
   "execution_count": null,
   "id": "1cbb10b8",
   "metadata": {},
   "outputs": [],
   "source": []
  },
  {
   "cell_type": "code",
   "execution_count": 7,
   "id": "f1826f60",
   "metadata": {},
   "outputs": [],
   "source": [
    "speed = {'jan': 47,\n",
    "         'feb': 52,\n",
    "         'march': 47,\n",
    "         'April': 44,\n",
    "         'May': 52,\n",
    "         'June': 53,\n",
    "         'july': 54,\n",
    "         'Aug': 44,\n",
    "         'Sept': 54}\n"
   ]
  },
  {
   "cell_type": "code",
   "execution_count": 8,
   "id": "6c0c0bb2",
   "metadata": {},
   "outputs": [],
   "source": [
    "def values_to_list(dictionary):\n",
    "    out = {}\n",
    "    for value in dictionary.values():\n",
    "        out[value] = 0\n",
    "    return list(out)"
   ]
  },
  {
   "cell_type": "code",
   "execution_count": 9,
   "id": "ca94582c",
   "metadata": {},
   "outputs": [
    {
     "data": {
      "text/plain": [
       "[47, 52, 44, 53, 54]"
      ]
     },
     "execution_count": 9,
     "metadata": {},
     "output_type": "execute_result"
    }
   ],
   "source": [
    "values_to_list(speed)"
   ]
  },
  {
   "cell_type": "code",
   "execution_count": null,
   "id": "bb09a7de",
   "metadata": {},
   "outputs": [],
   "source": []
  }
 ],
 "metadata": {
  "kernelspec": {
   "display_name": "Python 3 (ipykernel)",
   "language": "python",
   "name": "python3"
  },
  "language_info": {
   "codemirror_mode": {
    "name": "ipython",
    "version": 3
   },
   "file_extension": ".py",
   "mimetype": "text/x-python",
   "name": "python",
   "nbconvert_exporter": "python",
   "pygments_lexer": "ipython3",
   "version": "3.9.13"
  }
 },
 "nbformat": 4,
 "nbformat_minor": 5
}
