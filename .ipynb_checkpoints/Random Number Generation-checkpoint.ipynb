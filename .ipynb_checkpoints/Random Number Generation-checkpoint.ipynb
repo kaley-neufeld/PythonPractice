{
 "cells": [
  {
   "cell_type": "code",
   "execution_count": 1,
   "id": "10a71069",
   "metadata": {},
   "outputs": [],
   "source": [
    "import random"
   ]
  },
  {
   "cell_type": "markdown",
   "id": "b258b222",
   "metadata": {},
   "source": [
    "### 1. Generate 3 random integers between 100 and 999 which is divisible by 5"
   ]
  },
  {
   "cell_type": "code",
   "execution_count": 2,
   "id": "91decfb1",
   "metadata": {},
   "outputs": [
    {
     "name": "stdout",
     "output_type": "stream",
     "text": [
      "710\n",
      "400\n",
      "730\n"
     ]
    }
   ],
   "source": [
    "for num in range(3):\n",
    "    print(random.randrange(100,999,5))"
   ]
  },
  {
   "cell_type": "markdown",
   "id": "f924ff4f",
   "metadata": {},
   "source": [
    "### 2. Generate 100 random, unique lottery tickets, 10 digits each, and pick 2 winning tickets"
   ]
  },
  {
   "cell_type": "code",
   "execution_count": 3,
   "id": "9247af99",
   "metadata": {},
   "outputs": [],
   "source": [
    "def lottery_generator(num_total_tickets, num_winners):\n",
    "    \n",
    "    all_tickets = []\n",
    "    \n",
    "    for i in range(num_total_tickets):\n",
    "        all_tickets.append(random.randrange(1000000000,9999999999))\n",
    "        \n",
    "    winners = random.sample(all_tickets, num_winners)\n",
    "    \n",
    "    print(\"winning tickets: \")\n",
    "    for tick in winners:\n",
    "        print(tick)"
   ]
  },
  {
   "cell_type": "code",
   "execution_count": 4,
   "id": "04ef7fc8",
   "metadata": {},
   "outputs": [
    {
     "name": "stdout",
     "output_type": "stream",
     "text": [
      "winning tickets: \n",
      "5833274689\n",
      "4205944806\n"
     ]
    }
   ],
   "source": [
    "lottery_generator(100,2)"
   ]
  },
  {
   "cell_type": "markdown",
   "id": "7c26b785",
   "metadata": {},
   "source": [
    "### 4. pick a random character from a given string"
   ]
  },
  {
   "cell_type": "code",
   "execution_count": 5,
   "id": "6a3778a3",
   "metadata": {},
   "outputs": [],
   "source": [
    "def random_character(string):\n",
    "    return random.choice(string)"
   ]
  },
  {
   "cell_type": "code",
   "execution_count": 6,
   "id": "638762f8",
   "metadata": {},
   "outputs": [
    {
     "data": {
      "text/plain": [
       "'H'"
      ]
     },
     "execution_count": 6,
     "metadata": {},
     "output_type": "execute_result"
    }
   ],
   "source": [
    "random_character(\"Hello\")"
   ]
  },
  {
   "cell_type": "code",
   "execution_count": null,
   "id": "33785884",
   "metadata": {},
   "outputs": [],
   "source": []
  }
 ],
 "metadata": {
  "kernelspec": {
   "display_name": "Python 3 (ipykernel)",
   "language": "python",
   "name": "python3"
  },
  "language_info": {
   "codemirror_mode": {
    "name": "ipython",
    "version": 3
   },
   "file_extension": ".py",
   "mimetype": "text/x-python",
   "name": "python",
   "nbconvert_exporter": "python",
   "pygments_lexer": "ipython3",
   "version": "3.9.13"
  }
 },
 "nbformat": 4,
 "nbformat_minor": 5
}
